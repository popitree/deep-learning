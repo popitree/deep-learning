{
  "nbformat": 4,
  "nbformat_minor": 0,
  "metadata": {
    "colab": {
      "name": "3_Regression_Boston_Housing_Price.ipynb",
      "provenance": [],
      "collapsed_sections": [],
      "authorship_tag": "ABX9TyOFEvZZRu28B7t9wTfXAHGT",
      "include_colab_link": true
    },
    "kernelspec": {
      "name": "python3",
      "display_name": "Python 3"
    }
  },
  "cells": [
    {
      "cell_type": "markdown",
      "metadata": {
        "id": "view-in-github",
        "colab_type": "text"
      },
      "source": [
        "<a href=\"https://colab.research.google.com/github/popitree/deep-learning/blob/master/3_Regression_Boston_Housing_Price.ipynb\" target=\"_parent\"><img src=\"https://colab.research.google.com/assets/colab-badge.svg\" alt=\"Open In Colab\"/></a>"
      ]
    },
    {
      "cell_type": "code",
      "metadata": {
        "id": "ztoeU6Hf5dfS",
        "colab_type": "code",
        "colab": {}
      },
      "source": [
        "from tensorflow.keras.datasets import boston_housing"
      ],
      "execution_count": 0,
      "outputs": []
    },
    {
      "cell_type": "code",
      "metadata": {
        "id": "13MpDGxC5sZc",
        "colab_type": "code",
        "colab": {
          "base_uri": "https://localhost:8080/",
          "height": 52
        },
        "outputId": "30943f43-aace-4ad1-9d85-79bd0681c84a"
      },
      "source": [
        "(train_data, train_target), (test_data,test_target) = boston_housing.load_data()"
      ],
      "execution_count": 3,
      "outputs": [
        {
          "output_type": "stream",
          "text": [
            "Downloading data from https://storage.googleapis.com/tensorflow/tf-keras-datasets/boston_housing.npz\n",
            "57344/57026 [==============================] - 0s 0us/step\n"
          ],
          "name": "stdout"
        }
      ]
    },
    {
      "cell_type": "code",
      "metadata": {
        "id": "5mvvBKRy51b1",
        "colab_type": "code",
        "colab": {
          "base_uri": "https://localhost:8080/",
          "height": 52
        },
        "outputId": "cc7d257d-5bc4-40d6-b4c2-01773ccf4d99"
      },
      "source": [
        "print(train_data.shape)\n",
        "print(test_data.shape)"
      ],
      "execution_count": 4,
      "outputs": [
        {
          "output_type": "stream",
          "text": [
            "(404, 13)\n",
            "(102, 13)\n"
          ],
          "name": "stdout"
        }
      ]
    },
    {
      "cell_type": "code",
      "metadata": {
        "id": "605X0v6y6Fcu",
        "colab_type": "code",
        "colab": {
          "base_uri": "https://localhost:8080/",
          "height": 139
        },
        "outputId": "f0d0368c-c629-4224-b7b0-62de63b1a376"
      },
      "source": [
        "print(train_data[0:2])\n",
        "train_target[:10]"
      ],
      "execution_count": 5,
      "outputs": [
        {
          "output_type": "stream",
          "text": [
            "[[1.23247e+00 0.00000e+00 8.14000e+00 0.00000e+00 5.38000e-01 6.14200e+00\n",
            "  9.17000e+01 3.97690e+00 4.00000e+00 3.07000e+02 2.10000e+01 3.96900e+02\n",
            "  1.87200e+01]\n",
            " [2.17700e-02 8.25000e+01 2.03000e+00 0.00000e+00 4.15000e-01 7.61000e+00\n",
            "  1.57000e+01 6.27000e+00 2.00000e+00 3.48000e+02 1.47000e+01 3.95380e+02\n",
            "  3.11000e+00]]\n"
          ],
          "name": "stdout"
        },
        {
          "output_type": "execute_result",
          "data": {
            "text/plain": [
              "array([15.2, 42.3, 50. , 21.1, 17.7, 18.5, 11.3, 15.6, 15.6, 14.4])"
            ]
          },
          "metadata": {
            "tags": []
          },
          "execution_count": 5
        }
      ]
    },
    {
      "cell_type": "code",
      "metadata": {
        "id": "Zsnt2BzD6L6b",
        "colab_type": "code",
        "colab": {}
      },
      "source": [
        "# So we have numerical data only but of different scale\n",
        "# let us standardize the data for each column\n",
        "mean = train_data.mean(axis=0)\n",
        "std = train_data.std(axis=0)\n",
        "\n",
        "# we will use the same value to standardize test data\n",
        "# We should not use any quantity that is computed on test data\n",
        "\n",
        "train_data -= mean\n",
        "train_data /= std\n",
        "\n",
        "test_data -= mean\n",
        "test_data /= std\n",
        "\n",
        " "
      ],
      "execution_count": 0,
      "outputs": []
    },
    {
      "cell_type": "code",
      "metadata": {
        "id": "eCsaX9H3734r",
        "colab_type": "code",
        "colab": {}
      },
      "source": [
        "# NW Building\n",
        "# We will use small NW. 2 hidden layers of 16 each\n",
        "# The less data we have more chance of overfitting, using small NW is one way of mitigating that\n",
        "\n",
        "from tensorflow.keras import models\n",
        "from tensorflow.keras import layers\n"
      ],
      "execution_count": 0,
      "outputs": []
    },
    {
      "cell_type": "code",
      "metadata": {
        "id": "PNABJDpmCjNS",
        "colab_type": "code",
        "colab": {}
      },
      "source": [
        "# we will have to use same model multiple times so lets create a function to instantiate it\n",
        "\n",
        "def build_model():\n",
        "  model = models.Sequential(layers=layers.Dense(64,activation='relu',input_shape=(train_data.shape[1],)))\n",
        "  model.add(layers.Dense(64,activation='relu'))\n",
        "  model.add(layers.Dense(1))\n",
        "  # ends with 1 layer and no activation, typical setup for regression\n",
        "  # last layer is purely linear, can take any range\n",
        "  model.compile(optimizer='rmsprop', loss='mse', metrics=['mae'])\n",
        "  # Loss is mean squared error, very good for regression\n",
        "  # metric MAE Mean Absolute Error, ie if it is 0.5 it is off by 0.5 on average\n",
        "  \n",
        "  return model\n"
      ],
      "execution_count": 0,
      "outputs": []
    },
    {
      "cell_type": "code",
      "metadata": {
        "id": "r2jOgUNcDQIk",
        "colab_type": "code",
        "colab": {}
      },
      "source": [
        "# As data points are very less, if we keep validation set aside and train the score on validation set may change a lot\n",
        "# depending on what we kept for training and what for validation\n",
        "# So best is K-Fold validation\n",
        "# And overall validation score is the average of score on all those validation sets\n",
        "import numpy as np\n",
        "k=4\n",
        "num_value_samples = len(train_data) // 4\n",
        "num_epochs = 100\n",
        "all_mse_scores = []\n",
        "all_mae_scores = []\n",
        "\n",
        "for i in range(k):\n",
        "  print(\"Processing Fold: \", i)\n",
        "  val_data = train_data[i*num_value_samples : (i+1)*num_value_samples]\n",
        "  val_target = train_target[i*num_value_samples : (i+1)*num_value_samples]\n",
        "\n",
        "  # data from before and after validation slice\n",
        "  partial_train_data = np.concatenate(\n",
        "      [\n",
        "       train_data[:i*num_value_samples],\n",
        "       train_data[(i+1)*num_value_samples :]\n",
        "       ], axis = 0\n",
        "       )\n",
        "\n",
        "  partial_train_target = np.concatenate(\n",
        "       [\n",
        "       train_target[:i*num_value_samples],\n",
        "       train_target[(i+1)*num_value_samples :]\n",
        "       ], axis = 0\n",
        "       )\n",
        "\n",
        "  model = build_model()\n",
        "\n",
        "  model.fit(x=partial_train_data, y = partial_train_target, \n",
        "            batch_size=1,\n",
        "            epochs = num_epochs,\n",
        "            verrbose = 0)\n",
        "  val_mse, val_mae = model.evaluate(x = val_data, y = val_target)  \n",
        "  all_mse_scores.append(val_mse)\n",
        "  all_mae_scores.append(val_mae)\n"
      ],
      "execution_count": 0,
      "outputs": []
    },
    {
      "cell_type": "code",
      "metadata": {
        "id": "_vMTnD8i3RLH",
        "colab_type": "code",
        "colab": {
          "base_uri": "https://localhost:8080/",
          "height": 69
        },
        "outputId": "1b8eb318-84e0-41a1-930f-97d5e6c3cb22"
      },
      "source": [
        "print(all_mse_scores)\n",
        "print(all_mae_scores)\n",
        "print(np.mean(all_mae_scores))"
      ],
      "execution_count": 16,
      "outputs": [
        {
          "output_type": "stream",
          "text": [
            "[10.191424369812012, 13.047433853149414, 12.787456512451172, 9.762190818786621]\n",
            "[2.3041069507598877, 2.668144702911377, 2.5089333057403564, 2.5081615447998047]\n",
            "2.4973366260528564\n"
          ],
          "name": "stdout"
        }
      ]
    },
    {
      "cell_type": "code",
      "metadata": {
        "id": "oYuvRhI88K-2",
        "colab_type": "code",
        "colab": {}
      },
      "source": [
        "# The price range is 10K to 50K, and on average we are off by 2.5*1K = $2500\n",
        "# Let us run the model little longer, 500 epochs.\n",
        "# To check how it performs we will keep a track of validation score for each epoch\n",
        "\n",
        "all_mae_histories = []\n",
        "num_epochs = 500\n",
        "\n",
        "for i in range(k):\n",
        "  print(\"Processing Fold: \", i)\n",
        "  val_data = train_data[i*num_value_samples : (i+1)*num_value_samples]\n",
        "  val_target = train_target[i*num_value_samples : (i+1)*num_value_samples]\n",
        "\n",
        "  # data from before and after validation slice\n",
        "  partial_train_data = np.concatenate(\n",
        "      [\n",
        "       train_data[:i*num_value_samples],\n",
        "       train_data[(i+1)*num_value_samples :]\n",
        "       ], axis = 0\n",
        "       )\n",
        "\n",
        "  partial_train_target = np.concatenate(\n",
        "       [\n",
        "       train_target[:i*num_value_samples],\n",
        "       train_target[(i+1)*num_value_samples :]\n",
        "       ], axis = 0\n",
        "       )\n",
        "\n",
        "  model = build_model()\n",
        "\n",
        "  history = model.fit(x=partial_train_data, y = partial_train_target, \n",
        "                      validation_data = (val_data, val_target),\n",
        "                      batch_size=1,\n",
        "                      epochs = num_epochs,\n",
        "                      verrbose = 0)\n",
        "  #print(history.history.keys())\n",
        "  mae_history = history.history['val_mae']\n",
        "  all_mae_histories.append(mae_history)"
      ],
      "execution_count": 0,
      "outputs": []
    },
    {
      "cell_type": "code",
      "metadata": {
        "id": "Mvndn_xs-6DC",
        "colab_type": "code",
        "colab": {
          "base_uri": "https://localhost:8080/",
          "height": 35
        },
        "outputId": "68e7ad36-327e-43ab-988d-84ac3d9e1e15"
      },
      "source": [
        "history.history.keys()"
      ],
      "execution_count": 20,
      "outputs": [
        {
          "output_type": "execute_result",
          "data": {
            "text/plain": [
              "dict_keys(['loss', 'mae', 'val_loss', 'val_mae'])"
            ]
          },
          "metadata": {
            "tags": []
          },
          "execution_count": 20
        }
      ]
    },
    {
      "cell_type": "code",
      "metadata": {
        "id": "KUKtCgk9_5Cj",
        "colab_type": "code",
        "colab": {}
      },
      "source": [
        "# WHat is the avg MAE error for each epoch across 4 validation sets\n",
        "average_mae_history  = [\n",
        "                        np.mean([x[i] for x in all_mae_histories]) for i in range(num_epochs)\n",
        "                        ]"
      ],
      "execution_count": 0,
      "outputs": []
    },
    {
      "cell_type": "code",
      "metadata": {
        "id": "a78przigOnh8",
        "colab_type": "code",
        "colab": {
          "base_uri": "https://localhost:8080/",
          "height": 279
        },
        "outputId": "ccbc0a98-3bb2-4b55-8a45-767693d9e079"
      },
      "source": [
        "import matplotlib.pyplot as plt\n",
        "\n",
        "plt.plot(range(1, len(average_mae_history)+1), average_mae_history)\n",
        "plt.xlabel(\"Epoch\")\n",
        "plt.ylabel(\"Avg Validation MAE\")\n",
        "plt.show()"
      ],
      "execution_count": 29,
      "outputs": [
        {
          "output_type": "display_data",
          "data": {
            "image/png": "[encoded data removed]",
            "text/plain": [
              "<Figure size 432x288 with 1 Axes>"
            ]
          },
          "metadata": {
            "tags": [],
            "needs_background": "light"
          }
        }
      ]
    },
    {
      "cell_type": "code",
      "metadata": {
        "id": "dT6a7KxxQboM",
        "colab_type": "code",
        "colab": {}
      },
      "source": [
        "# Difficult to see the plot due to scaling issue and relatively high VARiance\n",
        "# Replace first 10 points which are way too high\n",
        "# Replace each point with an exponential moving avg of all previous points to get a smooth curve\n",
        "def smooth_curve(points, factor = 0.9):\n",
        "  smoothed_points = []\n",
        "  for point in points:\n",
        "    if smoothed_points:\n",
        "      previous = smoothed_points[-1]\n",
        "      smoothed_points.append(previous*factor+point*(1-factor))\n",
        "    else:\n",
        "      smoothed_points.append(point)\n",
        "  return smoothed_points\n",
        "\n",
        "smooth_mae_history = smooth_curve(average_mae_history[10:])"
      ],
      "execution_count": 0,
      "outputs": []
    },
    {
      "cell_type": "code",
      "metadata": {
        "id": "H9PVNvqFZvwk",
        "colab_type": "code",
        "colab": {
          "base_uri": "https://localhost:8080/",
          "height": 279
        },
        "outputId": "74de2636-53f8-4768-e6ed-5ee14b37acac"
      },
      "source": [
        "plt.plot(range(1, len(smooth_mae_history)+1), smooth_mae_history)\n",
        "plt.xlabel(\"Epoch\")\n",
        "plt.ylabel(\"Avg Validation MAE After Smoothing\")\n",
        "plt.show()"
      ],
      "execution_count": 31,
      "outputs": [
        {
          "output_type": "display_data",
          "data": {
            "image/png": "[encoded data removed]",
            "text/plain": [
              "<Figure size 432x288 with 1 Axes>"
            ]
          },
          "metadata": {
            "tags": [],
            "needs_background": "light"
          }
        }
      ]
    },
    {
      "cell_type": "code",
      "metadata": {
        "id": "dPT5bZvfZ6tt",
        "colab_type": "code",
        "colab": {}
      },
      "source": [
        "# Validation MAE stops improving significantly after 80 epochs\n",
        "# Once tuning of params done we can also adjust hidden layers size\n",
        "\n",
        "# Let us build final model and check its performance on test data"
      ],
      "execution_count": 0,
      "outputs": []
    },
    {
      "cell_type": "code",
      "metadata": {
        "id": "GpPmfDQoaVBG",
        "colab_type": "code",
        "colab": {
          "base_uri": "https://localhost:8080/",
          "height": 35
        },
        "outputId": "f2689fc0-07f7-4c1e-f4e8-9585e50417bb"
      },
      "source": [
        "model = build_model()\n",
        "model.fit(x = train_data,\n",
        "          y=train_target,\n",
        "          epochs = 80,\n",
        "          batch_size = 1,\n",
        "          verbose = 0)\n",
        "test_mse_score, test_mae_score = model.evaluate(test_data, test_target)"
      ],
      "execution_count": 39,
      "outputs": [
        {
          "output_type": "stream",
          "text": [
            "4/4 [==============================] - 0s 2ms/step - loss: 38.7311 - mae: 2.5515\n"
          ],
          "name": "stdout"
        }
      ]
    },
    {
      "cell_type": "code",
      "metadata": {
        "id": "MWbyvGpraubZ",
        "colab_type": "code",
        "colab": {
          "base_uri": "https://localhost:8080/",
          "height": 35
        },
        "outputId": "919f9a2a-02df-4f2d-fbee-6f692d844806"
      },
      "source": [
        "test_mae_score"
      ],
      "execution_count": 38,
      "outputs": [
        {
          "output_type": "execute_result",
          "data": {
            "text/plain": [
              "2.642787218093872"
            ]
          },
          "metadata": {
            "tags": []
          },
          "execution_count": 38
        }
      ]
    },
    {
      "cell_type": "code",
      "metadata": {
        "id": "cxVsr6DibAoE",
        "colab_type": "code",
        "colab": {}
      },
      "source": [
        "# So we are still of by $2550"
      ],
      "execution_count": 0,
      "outputs": []
    }
  ]
}