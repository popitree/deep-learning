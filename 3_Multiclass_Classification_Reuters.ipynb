{
  "nbformat": 4,
  "nbformat_minor": 0,
  "metadata": {
    "colab": {
      "name": "3_Multiclass_Classification_Reuters.ipynb",
      "provenance": [],
      "collapsed_sections": [],
      "authorship_tag": "ABX9TyNC/pr/wflH2lImxRLdyNl3",
      "include_colab_link": true
    },
    "kernelspec": {
      "name": "python3",
      "display_name": "Python 3"
    }
  },
  "cells": [
    {
      "cell_type": "markdown",
      "metadata": {
        "id": "view-in-github",
        "colab_type": "text"
      },
      "source": [
        "<a href=\"https://colab.research.google.com/github/popitree/deep-learning/blob/master/3_Multiclass_Classification_Reuters.ipynb\" target=\"_parent\"><img src=\"https://colab.research.google.com/assets/colab-badge.svg\" alt=\"Open In Colab\"/></a>"
      ]
    },
    {
      "cell_type": "code",
      "metadata": {
        "id": "shWF1YcVvbgb",
        "colab_type": "code",
        "colab": {}
      },
      "source": [
        "from tensorflow.keras.datasets import reuters"
      ],
      "execution_count": 0,
      "outputs": []
    },
    {
      "cell_type": "code",
      "metadata": {
        "id": "UenLgN3Jvpu9",
        "colab_type": "code",
        "outputId": "6ac53beb-1caf-48c7-afc2-68f42000cc1f",
        "colab": {
          "base_uri": "https://localhost:8080/",
          "height": 51
        }
      },
      "source": [
        "# 11228 datasets with 46 different topics\n",
        " (train_data, train_label), (test_data, test_label) = reuters.load_data(num_words=10000)"
      ],
      "execution_count": 0,
      "outputs": [
        {
          "output_type": "stream",
          "text": [
            "Downloading data from https://storage.googleapis.com/tensorflow/tf-keras-datasets/reuters.npz\n",
            "2113536/2110848 [==============================] - 0s 0us/step\n"
          ],
          "name": "stdout"
        }
      ]
    },
    {
      "cell_type": "code",
      "metadata": {
        "id": "0FkVMQHkv8iu",
        "colab_type": "code",
        "outputId": "b7f3458a-27ef-412f-8e00-6cd9637dbc89",
        "colab": {
          "base_uri": "https://localhost:8080/",
          "height": 51
        }
      },
      "source": [
        "print(train_data.shape)\n",
        "print(test_data.shape)"
      ],
      "execution_count": 0,
      "outputs": [
        {
          "output_type": "stream",
          "text": [
            "(8982,)\n",
            "(2246,)\n"
          ],
          "name": "stdout"
        }
      ]
    },
    {
      "cell_type": "code",
      "metadata": {
        "id": "pzzu4TkkwOa-",
        "colab_type": "code",
        "colab": {}
      },
      "source": [
        "word_index = reuters.get_word_index()"
      ],
      "execution_count": 0,
      "outputs": []
    },
    {
      "cell_type": "code",
      "metadata": {
        "id": "pqkv37Snwc6V",
        "colab_type": "code",
        "colab": {}
      },
      "source": [
        "reverse_word_index = dict([(value,key) for (key,value) in word_index.items() ])"
      ],
      "execution_count": 0,
      "outputs": []
    },
    {
      "cell_type": "code",
      "metadata": {
        "id": "zWTzoW5Xw9lP",
        "colab_type": "code",
        "colab": {}
      },
      "source": [
        "def get_news(word_index_arr):\n",
        "  return \" \".join([reverse_word_index.get(i - 3, '?') for i in word_index_arr])\n",
        "\n",
        "# 0 1 2 are reverse inidices of padding, start of sequence and unknown"
      ],
      "execution_count": 0,
      "outputs": []
    },
    {
      "cell_type": "code",
      "metadata": {
        "id": "lfRMXyndxbsL",
        "colab_type": "code",
        "outputId": "b9e7fca9-649a-4fba-fa71-686b7c7caab3",
        "colab": {
          "base_uri": "https://localhost:8080/",
          "height": 71
        }
      },
      "source": [
        "print(\"Topic: \"+get_news(train_data[123]))\n",
        "print(\"Topic: \"+get_news(train_data[130]))"
      ],
      "execution_count": 0,
      "outputs": [
        {
          "output_type": "stream",
          "text": [
            "Topic: ? there were six grain ships loading and six ships were waiting to load at portland according to the portland merchants exchange reuter 3\n",
            "Topic: ? delta air lines lt ? said a court order requiring western air lines lt ? to ? with two of its unions will not delay the april 1 merger between the two airlines the order which was issued by the ? circuit court of appeals requires western to discuss with its two unions whether western's labor contracts will be binding for delta delta said nevertheless the court order could cause significant personnel problems including the possible delay of wage increases delta had planned to give the western personnel on april 1 ronald allen ? president said delta said it feels the court has ? and should reconsider the order reuter 3\n"
          ],
          "name": "stdout"
        }
      ]
    },
    {
      "cell_type": "code",
      "metadata": {
        "id": "neu6ZK4dxcdA",
        "colab_type": "code",
        "outputId": "8cf965ad-c70f-4db5-a0fd-79fd800850d2",
        "colab": {
          "base_uri": "https://localhost:8080/",
          "height": 51
        }
      },
      "source": [
        "train_label[10:30]"
      ],
      "execution_count": 0,
      "outputs": [
        {
          "output_type": "execute_result",
          "data": {
            "text/plain": [
              "array([ 3,  3,  4,  4, 19,  8, 16,  3,  3, 21, 11,  4,  4,  3,  3,  1,  3,\n",
              "        1,  3, 16])"
            ]
          },
          "metadata": {
            "tags": []
          },
          "execution_count": 14
        }
      ]
    },
    {
      "cell_type": "code",
      "metadata": {
        "id": "eXfNVSGjyDDj",
        "colab_type": "code",
        "outputId": "181f4390-9a76-4a55-9409-3283f7fe63ad",
        "colab": {
          "base_uri": "https://localhost:8080/",
          "height": 34
        }
      },
      "source": [
        "print(train_data[123])"
      ],
      "execution_count": 0,
      "outputs": [
        {
          "output_type": "stream",
          "text": [
            "[1, 144, 62, 155, 361, 1094, 2618, 9, 155, 1094, 62, 2143, 6, 3177, 28, 3298, 519, 6, 4, 3298, 4444, 108, 17, 12]\n"
          ],
          "name": "stdout"
        }
      ]
    },
    {
      "cell_type": "markdown",
      "metadata": {
        "id": "E8tz0ljVLXOa",
        "colab_type": "text"
      },
      "source": [
        "We can vectorize the train and test data"
      ]
    },
    {
      "cell_type": "code",
      "metadata": {
        "id": "_Z7I0zvsLfMW",
        "colab_type": "code",
        "colab": {}
      },
      "source": [
        "import numpy as np\n",
        "def vectorize_sequence(sequences, dimensions = 10000):\n",
        "  results = np.zeros((len(sequences), dimensions))  # create a 2d array of 0\n",
        "  for idx,sequence in enumerate(sequences):\n",
        "    results[idx, sequence] = 1\n",
        "  return results"
      ],
      "execution_count": 0,
      "outputs": []
    },
    {
      "cell_type": "code",
      "metadata": {
        "id": "wbluk0dJMUd3",
        "colab_type": "code",
        "colab": {}
      },
      "source": [
        "x_train = vectorize_sequence(train_data)\n",
        "x_test = vectorize_sequence(test_data)"
      ],
      "execution_count": 0,
      "outputs": []
    },
    {
      "cell_type": "markdown",
      "metadata": {
        "id": "RzrqppJ0PG2m",
        "colab_type": "text"
      },
      "source": [
        "Now we need to vectorize the tables, either with keras inbuilt to_categorical or like previous code\n",
        "https://keras.io/datasets/#reuters-newswire-topics-classification\n",
        "We have 46 labels"
      ]
    },
    {
      "cell_type": "code",
      "metadata": {
        "id": "31ngXq4_Mr5z",
        "colab_type": "code",
        "colab": {}
      },
      "source": [
        "def to_one_hot_encode(labels, dimension = 46):\n",
        "  results = np.zeros((len(labels), dimension))\n",
        "  for idx,label in enumerate(labels):\n",
        "    results[idx, label] = 1\n",
        "  return results\n",
        "\n",
        "one_hot_train_labels = to_one_hot_encode(train_label)\n",
        "one_hot_test_lables  = to_one_hot_encode(test_label)\n"
      ],
      "execution_count": 0,
      "outputs": []
    },
    {
      "cell_type": "code",
      "metadata": {
        "id": "PT_9Wd0DQTDr",
        "colab_type": "code",
        "outputId": "c9238b5f-c9f4-4a4a-eba9-b0c74f0763dc",
        "colab": {
          "base_uri": "https://localhost:8080/",
          "height": 68
        }
      },
      "source": [
        "print(train_label[123])\n",
        "print(one_hot_train_labels[123])\n"
      ],
      "execution_count": 0,
      "outputs": [
        {
          "output_type": "stream",
          "text": [
            "1\n",
            "[0. 1. 0. 0. 0. 0. 0. 0. 0. 0. 0. 0. 0. 0. 0. 0. 0. 0. 0. 0. 0. 0. 0. 0.\n",
            " 0. 0. 0. 0. 0. 0. 0. 0. 0. 0. 0. 0. 0. 0. 0. 0. 0. 0. 0. 0. 0. 0.]\n"
          ],
          "name": "stdout"
        }
      ]
    },
    {
      "cell_type": "code",
      "metadata": {
        "id": "TVxo5UUSQlbh",
        "colab_type": "code",
        "colab": {}
      },
      "source": [
        "# Building your network\n",
        "\n",
        "# the number of output classes has gone from 2 to 46. The dimensionality of the output space is much larger.\n",
        "\n",
        "# In a stack of Dense layers like that you’ve been using, each layer can only access information present in the output of the previous layer. \n",
        "# If one layer drops some information relevant to the classification problem, this information can never be recovered by later layers: each layer can potentially become an information bottleneck.\n",
        "# In the previous example, you used 16-dimensional intermediate layers, but a 16-dimensional space may be too limited to learn to separate 46 different classes: \n",
        "# such small layers may act as information bottlenecks, permanently dropping relevant information.\n",
        "# For this reason you’ll use larger layers. Let’s go with 64 units."
      ],
      "execution_count": 0,
      "outputs": []
    },
    {
      "cell_type": "code",
      "metadata": {
        "id": "xuJLEdjqYFFR",
        "colab_type": "code",
        "colab": {}
      },
      "source": [
        "from tensorflow.keras import models\n",
        "from tensorflow.keras import layers\n"
      ],
      "execution_count": 0,
      "outputs": []
    },
    {
      "cell_type": "code",
      "metadata": {
        "id": "fFVVp2oekyC-",
        "colab_type": "code",
        "colab": {}
      },
      "source": [
        "model = models.Sequential()\n",
        "model.add(layers.Dense(64,activation='relu',input_shape=(10000,)))\n",
        "model.add(layers.Dense(64,activation='relu'))\n",
        "model.add(layers.Dense(46,activation='softmax'))"
      ],
      "execution_count": 0,
      "outputs": []
    },
    {
      "cell_type": "code",
      "metadata": {
        "id": "zb93n1XZlZhK",
        "colab_type": "code",
        "colab": {}
      },
      "source": [
        "# The best loss function to use here is categorical_crossentropy \n",
        "# It measures the distance between two probability distribution \n",
        "# Here input and output\n",
        "# In input it is like 0 0 0 1 0 0  etc in output 0.02 0.05 0.03 0.6 0.2 0.1  etc\n",
        "# sum is 1 for bot probability distribution"
      ],
      "execution_count": 0,
      "outputs": []
    },
    {
      "cell_type": "code",
      "metadata": {
        "id": "lNRO-xeTmAYn",
        "colab_type": "code",
        "colab": {}
      },
      "source": [
        "model.compile(optimizer='rmsprop', loss = 'categorical_crossentropy', metrics=['accuracy'])"
      ],
      "execution_count": 0,
      "outputs": []
    },
    {
      "cell_type": "code",
      "metadata": {
        "id": "qAP2pjA0mN-n",
        "colab_type": "code",
        "colab": {}
      },
      "source": [
        "#Setting aside validation set, take first 1000 records aside\n",
        "record_cnt_for_validation = 1000\n",
        "\n",
        "x_val = x_train[:record_cnt_for_validation]\n",
        "partial_x_train = x_train[record_cnt_for_validation:]\n",
        "\n",
        "y_val = one_hot_train_labels[:record_cnt_for_validation]\n",
        "partial_y_train = one_hot_train_labels[record_cnt_for_validation:]\n",
        "\n",
        "\n",
        "\n"
      ],
      "execution_count": 0,
      "outputs": []
    },
    {
      "cell_type": "code",
      "metadata": {
        "id": "gFtJn7MGnIbb",
        "colab_type": "code",
        "outputId": "e31fe9e0-467e-4798-8a31-e8230df05928",
        "colab": {
          "base_uri": "https://localhost:8080/",
          "height": 697
        }
      },
      "source": [
        "# Let us train the model\n",
        "history = model.fit(x=partial_x_train,\n",
        "                    y=partial_y_train,\n",
        "                    batch_size=512,\n",
        "                    epochs = 20,\n",
        "                    validation_data = (x_val, y_val))"
      ],
      "execution_count": 0,
      "outputs": [
        {
          "output_type": "stream",
          "text": [
            "Epoch 1/20\n",
            "16/16 [==============================] - 1s 55ms/step - loss: 2.7425 - accuracy: 0.4932 - val_loss: 1.8257 - val_accuracy: 0.6460\n",
            "Epoch 2/20\n",
            "16/16 [==============================] - 1s 43ms/step - loss: 1.4677 - accuracy: 0.6983 - val_loss: 1.3438 - val_accuracy: 0.7120\n",
            "Epoch 3/20\n",
            "16/16 [==============================] - 1s 42ms/step - loss: 1.0715 - accuracy: 0.7701 - val_loss: 1.1472 - val_accuracy: 0.7500\n",
            "Epoch 4/20\n",
            "16/16 [==============================] - 1s 42ms/step - loss: 0.8488 - accuracy: 0.8222 - val_loss: 1.0366 - val_accuracy: 0.7770\n",
            "Epoch 5/20\n",
            "16/16 [==============================] - 1s 41ms/step - loss: 0.6780 - accuracy: 0.8612 - val_loss: 0.9777 - val_accuracy: 0.7870\n",
            "Epoch 6/20\n",
            "16/16 [==============================] - 1s 40ms/step - loss: 0.5515 - accuracy: 0.8887 - val_loss: 0.9507 - val_accuracy: 0.7940\n",
            "Epoch 7/20\n",
            "16/16 [==============================] - 1s 41ms/step - loss: 0.4472 - accuracy: 0.9105 - val_loss: 0.9182 - val_accuracy: 0.8080\n",
            "Epoch 8/20\n",
            "16/16 [==============================] - 1s 45ms/step - loss: 0.3662 - accuracy: 0.9243 - val_loss: 0.8838 - val_accuracy: 0.8140\n",
            "Epoch 9/20\n",
            "16/16 [==============================] - 1s 42ms/step - loss: 0.3072 - accuracy: 0.9344 - val_loss: 0.9037 - val_accuracy: 0.8100\n",
            "Epoch 10/20\n",
            "16/16 [==============================] - 1s 42ms/step - loss: 0.2623 - accuracy: 0.9396 - val_loss: 0.8843 - val_accuracy: 0.8130\n",
            "Epoch 11/20\n",
            "16/16 [==============================] - 1s 42ms/step - loss: 0.2243 - accuracy: 0.9463 - val_loss: 0.9115 - val_accuracy: 0.8160\n",
            "Epoch 12/20\n",
            "16/16 [==============================] - 1s 42ms/step - loss: 0.1968 - accuracy: 0.9534 - val_loss: 0.9755 - val_accuracy: 0.8020\n",
            "Epoch 13/20\n",
            "16/16 [==============================] - 1s 41ms/step - loss: 0.1747 - accuracy: 0.9510 - val_loss: 0.9247 - val_accuracy: 0.8200\n",
            "Epoch 14/20\n",
            "16/16 [==============================] - 1s 42ms/step - loss: 0.1575 - accuracy: 0.9558 - val_loss: 0.9410 - val_accuracy: 0.8120\n",
            "Epoch 15/20\n",
            "16/16 [==============================] - 1s 41ms/step - loss: 0.1492 - accuracy: 0.9562 - val_loss: 1.0088 - val_accuracy: 0.8030\n",
            "Epoch 16/20\n",
            "16/16 [==============================] - 1s 40ms/step - loss: 0.1350 - accuracy: 0.9541 - val_loss: 1.0169 - val_accuracy: 0.8040\n",
            "Epoch 17/20\n",
            "16/16 [==============================] - 1s 41ms/step - loss: 0.1341 - accuracy: 0.9553 - val_loss: 1.0433 - val_accuracy: 0.8120\n",
            "Epoch 18/20\n",
            "16/16 [==============================] - 1s 42ms/step - loss: 0.1274 - accuracy: 0.9557 - val_loss: 1.0119 - val_accuracy: 0.8050\n",
            "Epoch 19/20\n",
            "16/16 [==============================] - 1s 41ms/step - loss: 0.1166 - accuracy: 0.9579 - val_loss: 1.0732 - val_accuracy: 0.8040\n",
            "Epoch 20/20\n",
            "16/16 [==============================] - 1s 40ms/step - loss: 0.1119 - accuracy: 0.9580 - val_loss: 1.0840 - val_accuracy: 0.8050\n"
          ],
          "name": "stdout"
        }
      ]
    },
    {
      "cell_type": "code",
      "metadata": {
        "id": "RXjXjk7YogO6",
        "colab_type": "code",
        "outputId": "d05ec238-10b9-4e3b-826c-2b8b957a396f",
        "colab": {
          "base_uri": "https://localhost:8080/",
          "height": 34
        }
      },
      "source": [
        "history.history.keys()"
      ],
      "execution_count": 0,
      "outputs": [
        {
          "output_type": "execute_result",
          "data": {
            "text/plain": [
              "dict_keys(['loss', 'accuracy', 'val_loss', 'val_accuracy'])"
            ]
          },
          "metadata": {
            "tags": []
          },
          "execution_count": 50
        }
      ]
    },
    {
      "cell_type": "code",
      "metadata": {
        "id": "kFqHm7fOoXxC",
        "colab_type": "code",
        "colab": {}
      },
      "source": [
        "import matplotlib.pyplot as plt"
      ],
      "execution_count": 0,
      "outputs": []
    },
    {
      "cell_type": "code",
      "metadata": {
        "id": "HRtHIEltodhv",
        "colab_type": "code",
        "outputId": "08181253-aa12-4c86-eb0a-f0c2f9bee224",
        "colab": {
          "base_uri": "https://localhost:8080/",
          "height": 441
        }
      },
      "source": [
        "loss = history.history['loss']\n",
        "val_loss =  history.history['val_loss']\n",
        "\n",
        "acc = history.history['accuracy']\n",
        "val_acc = history.history['val_accuracy']\n",
        "\n",
        "# epochs was 20\n",
        "epochs = range(1, len(loss)+1)\n",
        "\n",
        "plt.figure(figsize=(18,6))\n",
        "plt.subplot(121)\n",
        "plt.plot(epochs, loss, 'bo', label = 'Training Loss')\n",
        "plt.plot(epochs, val_loss, 'b', label = 'Validation Loss')\n",
        "plt.title(\"Training and Validation Loss\")\n",
        "plt.xlabel(\"Epochs\")\n",
        "plt.ylabel(\"Loss\")\n",
        "plt.legend()\n",
        "\n",
        "\n",
        "plt.subplot(122)\n",
        "plt.plot(epochs, acc, 'bo', label = 'Training Accuracy')\n",
        "plt.plot(epochs, val_acc, 'b', label = 'Validation Accuracy')\n",
        "plt.title(\"Training and Validation Accuracy\")\n",
        "plt.xlabel(\"Epochs\")\n",
        "plt.ylabel(\"Accuracy\")\n",
        "plt.legend()\n",
        "\n",
        "plt.tight_layout()\n",
        "\n",
        "plt.show()\n",
        "\n",
        "\n"
      ],
      "execution_count": 0,
      "outputs": [
        {
          "output_type": "display_data",
          "data": {
            "image/png": "[encoded data removed]",
            "text/plain": [
              "<Figure size 1296x432 with 2 Axes>"
            ]
          },
          "metadata": {
            "tags": [],
            "needs_background": "light"
          }
        }
      ]
    },
    {
      "cell_type": "code",
      "metadata": {
        "id": "eBcOPiXXpPRA",
        "colab_type": "code",
        "outputId": "2f967563-35c7-450d-8aab-b4c9ef1d1e21",
        "colab": {
          "base_uri": "https://localhost:8080/",
          "height": 340
        }
      },
      "source": [
        "# So we can see after 9 or 10 epochs the network tends to overfit\n",
        "\n",
        "model_final = models.Sequential()\n",
        "model_final.add(layers.Dense(64,activation='relu',input_shape=(10000,)))\n",
        "model_final.add(layers.Dense(64,activation='relu'))\n",
        "model_final.add(layers.Dense(46,activation='softmax'))\n",
        "\n",
        "\n",
        "model_final.compile(optimizer='rmsprop', loss = 'categorical_crossentropy', metrics=['accuracy'])\n",
        "\n",
        "model_final.fit(x=partial_x_train,\n",
        "                    y=partial_y_train,\n",
        "                    batch_size=512,\n",
        "                    epochs = 9,\n",
        "                    validation_data = (x_val, y_val))"
      ],
      "execution_count": 0,
      "outputs": [
        {
          "output_type": "stream",
          "text": [
            "Epoch 1/9\n",
            "16/16 [==============================] - 1s 55ms/step - loss: 2.5618 - accuracy: 0.4940 - val_loss: 1.7145 - val_accuracy: 0.6600\n",
            "Epoch 2/9\n",
            "16/16 [==============================] - 1s 48ms/step - loss: 1.4132 - accuracy: 0.7091 - val_loss: 1.3153 - val_accuracy: 0.7140\n",
            "Epoch 3/9\n",
            "16/16 [==============================] - 1s 48ms/step - loss: 1.0504 - accuracy: 0.7736 - val_loss: 1.1217 - val_accuracy: 0.7620\n",
            "Epoch 4/9\n",
            "16/16 [==============================] - 1s 49ms/step - loss: 0.8218 - accuracy: 0.8257 - val_loss: 1.0238 - val_accuracy: 0.7780\n",
            "Epoch 5/9\n",
            "16/16 [==============================] - 1s 47ms/step - loss: 0.6492 - accuracy: 0.8647 - val_loss: 0.9544 - val_accuracy: 0.8010\n",
            "Epoch 6/9\n",
            "16/16 [==============================] - 1s 49ms/step - loss: 0.5152 - accuracy: 0.8940 - val_loss: 0.9240 - val_accuracy: 0.8060\n",
            "Epoch 7/9\n",
            "16/16 [==============================] - 1s 48ms/step - loss: 0.4154 - accuracy: 0.9136 - val_loss: 0.9267 - val_accuracy: 0.8080\n",
            "Epoch 8/9\n",
            "16/16 [==============================] - 1s 49ms/step - loss: 0.3382 - accuracy: 0.9296 - val_loss: 0.8859 - val_accuracy: 0.8170\n",
            "Epoch 9/9\n",
            "16/16 [==============================] - 1s 47ms/step - loss: 0.2765 - accuracy: 0.9410 - val_loss: 0.9191 - val_accuracy: 0.8120\n"
          ],
          "name": "stdout"
        },
        {
          "output_type": "execute_result",
          "data": {
            "text/plain": [
              "<tensorflow.python.keras.callbacks.History at 0x7f5f869b7828>"
            ]
          },
          "metadata": {
            "tags": []
          },
          "execution_count": 56
        }
      ]
    },
    {
      "cell_type": "code",
      "metadata": {
        "id": "oM1IovqRrDlg",
        "colab_type": "code",
        "outputId": "3d988794-0d68-4f3a-9706-13e893486b7d",
        "colab": {
          "base_uri": "https://localhost:8080/",
          "height": 34
        }
      },
      "source": [
        "results = model_final.evaluate(x_test, one_hot_test_lables)\n",
        "# It returns loss value and metric"
      ],
      "execution_count": 0,
      "outputs": [
        {
          "output_type": "stream",
          "text": [
            "71/71 [==============================] - 0s 3ms/step - loss: 1.0027 - accuracy: 0.7836\n"
          ],
          "name": "stdout"
        }
      ]
    },
    {
      "cell_type": "code",
      "metadata": {
        "id": "bTRW1RzQrX0t",
        "colab_type": "code",
        "outputId": "0a48aab7-a4b8-4835-b777-07dca6594a80",
        "colab": {
          "base_uri": "https://localhost:8080/",
          "height": 34
        }
      },
      "source": [
        "results"
      ],
      "execution_count": 0,
      "outputs": [
        {
          "output_type": "execute_result",
          "data": {
            "text/plain": [
              "[1.002669334411621, 0.7836152911186218]"
            ]
          },
          "metadata": {
            "tags": []
          },
          "execution_count": 59
        }
      ]
    },
    {
      "cell_type": "code",
      "metadata": {
        "id": "Dw1vqJm9rgbd",
        "colab_type": "code",
        "outputId": "ef0c61cd-1458-49f7-d41b-55d662926cc5",
        "colab": {
          "base_uri": "https://localhost:8080/",
          "height": 34
        }
      },
      "source": [
        "# So accuracy is almost 78%\n",
        "# Let us see if we use random classifier\n",
        "import copy\n",
        "test_labesl_copy = copy.copy(test_label)\n",
        "np.random.shuffle(test_labesl_copy)\n",
        "\n",
        "#guess_match_arry\n",
        "hits_array = np.array(test_label) == np.array(test_labesl_copy)\n",
        "np.sum(hits_array)/len(hits_array)"
      ],
      "execution_count": 0,
      "outputs": [
        {
          "output_type": "execute_result",
          "data": {
            "text/plain": [
              "0.18788958147818344"
            ]
          },
          "metadata": {
            "tags": []
          },
          "execution_count": 66
        }
      ]
    },
    {
      "cell_type": "code",
      "metadata": {
        "id": "9gOsYO2xsrT_",
        "colab_type": "code",
        "colab": {}
      },
      "source": [
        "# For binary classifier by pure random guesses the accuracy should be close to 50%\n",
        "# But for this multi class classifier it should be less\n",
        "# And in our case we got accuracy of around 19%.\n",
        "# And our model is giving accuracy of close to 80%"
      ],
      "execution_count": 0,
      "outputs": []
    },
    {
      "cell_type": "code",
      "metadata": {
        "id": "hml4DKvatQdN",
        "colab_type": "code",
        "colab": {}
      },
      "source": [
        "# Let us generate predictions"
      ],
      "execution_count": 0,
      "outputs": []
    },
    {
      "cell_type": "code",
      "metadata": {
        "id": "bq0nzc6ct3Qe",
        "colab_type": "code",
        "outputId": "5f321a68-cad6-4b76-af90-159f820ee4a1",
        "colab": {
          "base_uri": "https://localhost:8080/",
          "height": 34
        }
      },
      "source": [
        "predictions = model.predict(x_test)\n",
        "predictions.shape"
      ],
      "execution_count": 0,
      "outputs": [
        {
          "output_type": "execute_result",
          "data": {
            "text/plain": [
              "(2246, 46)"
            ]
          },
          "metadata": {
            "tags": []
          },
          "execution_count": 70
        }
      ]
    },
    {
      "cell_type": "code",
      "metadata": {
        "id": "r2Rc5v9Yt9ib",
        "colab_type": "code",
        "outputId": "ee519de1-45a6-463a-e323-31217be24056",
        "colab": {
          "base_uri": "https://localhost:8080/",
          "height": 221
        }
      },
      "source": [
        "predictions[0]"
      ],
      "execution_count": 0,
      "outputs": [
        {
          "output_type": "execute_result",
          "data": {
            "text/plain": [
              "array([1.1558558e-06, 1.6050630e-05, 9.4670000e-08, 7.1309644e-01,\n",
              "       2.7964967e-01, 9.0426840e-07, 6.1943332e-08, 7.3294029e-07,\n",
              "       1.6696294e-04, 5.1635252e-06, 2.2248705e-06, 6.2222738e-04,\n",
              "       2.1237436e-06, 2.7431188e-05, 3.8174992e-08, 1.3685626e-07,\n",
              "       4.9983475e-05, 2.6525800e-07, 7.9449101e-06, 5.6314273e-03,\n",
              "       4.9625419e-04, 3.1022366e-05, 1.9598745e-07, 3.2260357e-06,\n",
              "       1.0692223e-06, 1.6645530e-06, 7.1689671e-10, 1.2739223e-06,\n",
              "       1.5854703e-06, 1.2849402e-04, 4.7419335e-06, 3.1318407e-07,\n",
              "       8.1780524e-07, 1.6921361e-07, 3.3080360e-06, 1.9670847e-06,\n",
              "       2.9171262e-05, 1.0418433e-06, 1.9858081e-07, 5.0923876e-07,\n",
              "       3.2158957e-06, 7.5860480e-06, 4.4938366e-07, 5.2394466e-07,\n",
              "       1.3668794e-08, 8.9861302e-08], dtype=float32)"
            ]
          },
          "metadata": {
            "tags": []
          },
          "execution_count": 71
        }
      ]
    },
    {
      "cell_type": "code",
      "metadata": {
        "id": "AUlIB3hTuC17",
        "colab_type": "code",
        "outputId": "f149e510-0622-4280-8016-c39883386577",
        "colab": {
          "base_uri": "https://localhost:8080/",
          "height": 204
        }
      },
      "source": [
        "print(\"Index\\tPredicted\\tActual\")\n",
        "\n",
        "for i in range(10):\n",
        "  id = np.random.randint(100,500)\n",
        "\n",
        "  print(\"{} \\t {} \\t\\t {}\".format(id, np.argmax(predictions[id]), test_label[id]))\n"
      ],
      "execution_count": 0,
      "outputs": [
        {
          "output_type": "stream",
          "text": [
            "Index\tPredicted\tActual\n",
            "407 \t 3 \t\t 3\n",
            "495 \t 4 \t\t 25\n",
            "343 \t 3 \t\t 3\n",
            "409 \t 3 \t\t 3\n",
            "396 \t 3 \t\t 3\n",
            "343 \t 3 \t\t 3\n",
            "175 \t 21 \t\t 21\n",
            "424 \t 3 \t\t 3\n",
            "323 \t 19 \t\t 8\n",
            "283 \t 4 \t\t 4\n"
          ],
          "name": "stdout"
        }
      ]
    },
    {
      "cell_type": "code",
      "metadata": {
        "id": "SckugVIAuI07",
        "colab_type": "code",
        "outputId": "0ba37f86-6c24-4a5c-d954-07bb8df244b2",
        "colab": {
          "base_uri": "https://localhost:8080/",
          "height": 34
        }
      },
      "source": [
        "np.sum(predictions[0])"
      ],
      "execution_count": 0,
      "outputs": [
        {
          "output_type": "execute_result",
          "data": {
            "text/plain": [
              "1.0"
            ]
          },
          "metadata": {
            "tags": []
          },
          "execution_count": 73
        }
      ]
    },
    {
      "cell_type": "code",
      "metadata": {
        "id": "BSrVzBjcuO8c",
        "colab_type": "code",
        "colab": {}
      },
      "source": [
        "# Different way of handling labels and the loss\n",
        "# Another way to encode the labels is to cast them as INT Tensors\n",
        "y_train = np.array(train_label)\n",
        "y_test = np.array(test_label)\n",
        "\n",
        "# with this approach the loss function should change\n",
        "\n",
        "model_final.compile(optimizer='rmsprop', loss = 'sparse_categorical_crossentropy', metrics=['accuracy'])\n"
      ],
      "execution_count": 0,
      "outputs": []
    },
    {
      "cell_type": "code",
      "metadata": {
        "id": "IWoPQzv1uUW7",
        "colab_type": "code",
        "outputId": "1fdb5bad-fe04-48cf-9e8f-a5da7884b4fc",
        "colab": {
          "base_uri": "https://localhost:8080/",
          "height": 357
        }
      },
      "source": [
        "# The importance of having Large Intermediate Layesr\n",
        "# If we reduce we will reach bottleneck\n",
        "\n",
        "model_final = models.Sequential()\n",
        "model_final.add(layers.Dense(64,activation='relu',input_shape=(10000,)))\n",
        "model_final.add(layers.Dense(4,activation='relu'))\n",
        "model_final.add(layers.Dense(46,activation='softmax'))\n",
        "\n",
        "\n",
        "model_final.compile(optimizer='rmsprop', loss = 'categorical_crossentropy', metrics=['accuracy'])\n",
        "\n",
        "new_hist = model_final.fit(x=partial_x_train,\n",
        "                    y=partial_y_train,\n",
        "                    batch_size=512,\n",
        "                    epochs = 9,\n",
        "                    validation_data = (x_val, y_val))\n",
        "model_final.evaluate (x_test, one_hot_test_lables)"
      ],
      "execution_count": 0,
      "outputs": [
        {
          "output_type": "stream",
          "text": [
            "Epoch 1/9\n",
            "16/16 [==============================] - 1s 46ms/step - loss: 3.5358 - accuracy: 0.0871 - val_loss: 3.2543 - val_accuracy: 0.2270\n",
            "Epoch 2/9\n",
            "16/16 [==============================] - 1s 42ms/step - loss: 3.0674 - accuracy: 0.2275 - val_loss: 2.8969 - val_accuracy: 0.2420\n",
            "Epoch 3/9\n",
            "16/16 [==============================] - 1s 43ms/step - loss: 2.7160 - accuracy: 0.2434 - val_loss: 2.6129 - val_accuracy: 0.2480\n",
            "Epoch 4/9\n",
            "16/16 [==============================] - 1s 41ms/step - loss: 2.4143 - accuracy: 0.2527 - val_loss: 2.3484 - val_accuracy: 0.2620\n",
            "Epoch 5/9\n",
            "16/16 [==============================] - 1s 41ms/step - loss: 2.1153 - accuracy: 0.4763 - val_loss: 2.0834 - val_accuracy: 0.5650\n",
            "Epoch 6/9\n",
            "16/16 [==============================] - 1s 42ms/step - loss: 1.8187 - accuracy: 0.6163 - val_loss: 1.8689 - val_accuracy: 0.5940\n",
            "Epoch 7/9\n",
            "16/16 [==============================] - 1s 41ms/step - loss: 1.6028 - accuracy: 0.6396 - val_loss: 1.7205 - val_accuracy: 0.6180\n",
            "Epoch 8/9\n",
            "16/16 [==============================] - 1s 43ms/step - loss: 1.4660 - accuracy: 0.6575 - val_loss: 1.6436 - val_accuracy: 0.6260\n",
            "Epoch 9/9\n",
            "16/16 [==============================] - 1s 41ms/step - loss: 1.3647 - accuracy: 0.6678 - val_loss: 1.6065 - val_accuracy: 0.6230\n",
            "71/71 [==============================] - 0s 2ms/step - loss: 1.6528 - accuracy: 0.6340\n"
          ],
          "name": "stdout"
        },
        {
          "output_type": "execute_result",
          "data": {
            "text/plain": [
              "[1.6527860164642334, 0.6340160369873047]"
            ]
          },
          "metadata": {
            "tags": []
          },
          "execution_count": 91
        }
      ]
    },
    {
      "cell_type": "code",
      "metadata": {
        "id": "KMDn4qTsu6_s",
        "colab_type": "code",
        "outputId": "534cbbec-95b3-44d2-c234-4dda73d9f62c",
        "colab": {
          "base_uri": "https://localhost:8080/",
          "height": 34
        }
      },
      "source": [
        "np.mean(new_hist.history['val_accuracy'])"
      ],
      "execution_count": 0,
      "outputs": [
        {
          "output_type": "execute_result",
          "data": {
            "text/plain": [
              "0.4449999945031272"
            ]
          },
          "metadata": {
            "tags": []
          },
          "execution_count": 93
        }
      ]
    },
    {
      "cell_type": "code",
      "metadata": {
        "id": "HzvsjlB2SENK",
        "colab_type": "code",
        "colab": {}
      },
      "source": [
        "#63% accuracy and 44% validation accuracy"
      ],
      "execution_count": 0,
      "outputs": []
    },
    {
      "cell_type": "code",
      "metadata": {
        "id": "1QmperIaSOjY",
        "colab_type": "code",
        "colab": {}
      },
      "source": [
        ""
      ],
      "execution_count": 0,
      "outputs": []
    }
  ]
}